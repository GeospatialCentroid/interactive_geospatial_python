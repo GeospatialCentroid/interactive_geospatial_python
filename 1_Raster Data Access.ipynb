{
 "cells": [
  {
   "cell_type": "markdown",
   "id": "ac01cc2d-2dc6-48c8-a079-84f3c0224884",
   "metadata": {},
   "source": [
    "# Geospatial Python\n",
    "## Accessing satellite imagery using Python\n",
    "Setup: https://carpentries-incubator.github.io/geospatial-python/index.html\n",
    "\n",
    "Instruction: https://carpentries-incubator.github.io/geospatial-python/05-access-data.html\n",
    "\n",
    "Objectives:\n",
    "* Search public [SpatioTemporal Asset Catalog (STAC)](https://github.com/radiantearth/stac-api-spec/tree/release/v1.0.0) repositories of satellite imagery using Python.\n",
    "* Inspect search result’s metadata.\n",
    "* Download (a subset of) the assets available for a satellite scene.\n",
    "* Open satellite imagery as raster data and save it to disk.\n",
    "\n",
    "Before executing the code cells, be sure to **fill in the blanks** by replacing the \"_____\" as appropriate"
   ]
  },
  {
   "cell_type": "markdown",
   "id": "56c2b525-4065-4e44-a30f-bb636ac2892e",
   "metadata": {},
   "source": [
    "### SpatioTemporal Asset Catalog (STAC) specification \n",
    "\n",
    "- Terabytes of data products are added daily to the satellite collections \n",
    "- Downloading these data to your local hard drive is not practical \n",
    "- Graphical User Interfaces (GUIs) are often available allowing online exploration  \n",
    "  - E.g https://dataspace.copernicus.eu/browser/ \n",
    "- Drawbacks to manually downloading: \n",
    "  - Easy to miss items\t \n",
    "  - Not easily reproducible \n",
    "\n",
    "\n",
    "\n",
    "- Benefits of retrieving data programmatically:\n",
    "  * More reliable\n",
    "  * Scalable \n",
    "  * Reproducible\t"
   ]
  },
  {
   "cell_type": "code",
   "execution_count": null,
   "id": "2654e653",
   "metadata": {},
   "outputs": [],
   "source": [
    "# First import necessary libraries\n",
    "import rioxarray # to open and download remote raster data\n",
    "from pystac_client import Client# to query STAC API endpoint\n",
    "\n",
    "from shapely.geometry import Point # to create a point \n",
    "import geojson # to parse spatial data\n",
    "import folium # to create an interactive map\n",
    "from folium.plugins import Draw # to allow drawing\n",
    "\n",
    "# Create a variable to determine if the notebook is being run locally\n",
    "local_run=False\n",
    "if local_run:\n",
    "    # this package is problematic on remote computers\n",
    "    from localtileserver import TileClient, get_folium_tile_layer # to visualize the geotiff"
   ]
  },
  {
   "cell_type": "code",
   "execution_count": null,
   "id": "aea30fba-dbaf-4b3d-ba64-54d9df8d7ca4",
   "metadata": {},
   "outputs": [],
   "source": [
    "# Create an interactive map for use in creating a point of interest (POI)\n",
    "\n",
    "# Start by defining a point to center the map on\n",
    "center_coord = [40.60104027382292, -105.09137099497742] # fort collins\n",
    "\n",
    "# Create the map\n",
    "m  = folium.Map(center_coord, zoom_start=5)\n",
    "\n",
    "# Add drawing controls\n",
    "draw = Draw(export=True)\n",
    "draw.add_to(m)\n",
    "\n",
    "# Show the map\n",
    "\"_____\"\n",
    "\n",
    "# Use the drawing tools to create a POI\n",
    "# Click the POI to get the coordinates (e.g numbers between '[' and ']'."
   ]
  },
  {
   "cell_type": "code",
   "execution_count": null,
   "id": "261621db-c10d-419c-8990-79a1d1e3296d",
   "metadata": {},
   "outputs": [],
   "source": [
    "# Go to https://radiantearth.github.io/stac-browser/\n",
    "# Search for the \"earth search\"\n",
    "# Click the link\n",
    "\n",
    "# Then from the Earth Search page, click the \"Source\" button, and copy the URL from the text field\n",
    "\n",
    "# Paste the Earth Search STAC catalog API URL below\n",
    "api_url = \"_____\"\n",
    "\n",
    "# Open the API\n",
    "client = Client.open(\"_____\")"
   ]
  },
  {
   "cell_type": "code",
   "execution_count": null,
   "id": "bf24afb7-2168-4e03-bc60-18d4e41e5ceb",
   "metadata": {},
   "outputs": [],
   "source": [
    "# Perform a metadata search \n",
    "# limited to 10 results from Sentinel-2, Level 2A, to retrieve Cloud Optimized GeoTiffs (COGs)\n",
    "\n",
    "# Store a variable pointing to the collection of interest\n",
    "# Note: Collection ID is taken from Sentinel-2 Level 2A - https://radiantearth.github.io/stac-browser/#/external/earth-search.aws.element84.com/v1/collections/sentinel-2-c1-l2a\n",
    "collection = \"_____\" \n",
    "'''\n",
    "This collection includes Sentinel-2 data products \n",
    "pre-processed at level 2A (bottom-of-atmosphere reflectance) \n",
    "and saved in Cloud Optimized GeoTIFF (COG) format\n",
    "'''\n",
    "\n",
    "# Create a point to search from\n",
    "# Note: values are in format x (long), y (lat) https://shapely.readthedocs.io/en/stable/reference/shapely.Point.html\n",
    "point = Point(\"_____\",\"_____\",)  # From interactive map above \n",
    "# Alternatively use https://www.google.com/maps > search for place > right click to access lat and lng\n",
    "# lat (y) usually displayed before lng x, lng goes from -180 (west of Greenwich) - 0 - 180\n",
    "\n",
    "# Perform the search\n",
    "search = client.search(\n",
    "    collections=[collection],\n",
    "    intersects=\"_____\",\n",
    "    max_items=10,\n",
    ")\n",
    "# show the number of scenes (i.e. the portion of the footage recorded by the satellite)\n",
    "print(search.matched())"
   ]
  },
  {
   "cell_type": "code",
   "execution_count": null,
   "id": "eb43e6e9-10d4-405c-b9a4-943a8cd57977",
   "metadata": {},
   "outputs": [],
   "source": [
    "# Store the metadata of the search results\n",
    "items = search.item_collection()"
   ]
  },
  {
   "cell_type": "code",
   "execution_count": null,
   "id": "adbb704a-624a-4547-a44c-30214e52a425",
   "metadata": {},
   "outputs": [],
   "source": [
    "# Get the length of items\n",
    "print(len(\"_____\"))"
   ]
  },
  {
   "cell_type": "code",
   "execution_count": null,
   "id": "fc01379b-fd7b-44be-a4cb-4e4d7670a9e5",
   "metadata": {},
   "outputs": [],
   "source": [
    "# Loop over the items to see there ids\n",
    "for item in items:\n",
    "    print(\"_____\")"
   ]
  },
  {
   "cell_type": "code",
   "execution_count": null,
   "id": "f2123f99-6de8-4ff6-817a-66fb6fc8798f",
   "metadata": {},
   "outputs": [],
   "source": [
    "# Inspect the metadata associated with the first item of the search results\n",
    "item = items[\"_____\"]\n",
    "print(item.datetime)\n",
    "print(item.geometry)\n",
    "print(item.properties)"
   ]
  },
  {
   "cell_type": "code",
   "execution_count": null,
   "id": "6c9024ae-6562-4126-b4b8-dfd6176d0f50",
   "metadata": {},
   "outputs": [],
   "source": [
    "'''\n",
    "EXERCISE: Search the sentinel-2-l2a collection for all the available scenes that satisfy the following criteria: \n",
    "- intersect a provided bounding box (use ±0.01 deg in lat/lon from the previously defined point); \n",
    "- have been recorded between 20 March 2020 and 30 March 2020; \n",
    "- have a cloud coverage less than 15. Note: the eo extension (https://github.com/stac-extensions/eo) is implemented in some collections allowing it to be queried against\n",
    "\n",
    "* Get the count\n",
    "* Save the results to json\n",
    "'''\n",
    "bbox = point.buffer(\"_____\").bounds\n",
    "\n",
    "search = client.search(\n",
    "    collections=[collection],\n",
    "    bbox=bbox,\n",
    "    datetime=\"2023-03-20/2024-03-30\",\n",
    "    query=[\"eo:cloud_cover<15\"]\n",
    ")\n",
    "print(search.matched())\n",
    "items = search.item_collection()\n",
    "items.save_object(\"search.json\") # json file saved alongside notebook"
   ]
  },
  {
   "cell_type": "markdown",
   "id": "68ec08bb-8799-4cf3-891c-ffeb661a1c4d",
   "metadata": {},
   "source": [
    "## Access the assets\n"
   ]
  },
  {
   "cell_type": "code",
   "execution_count": null,
   "id": "6e8b6d5e-de44-438e-a2c1-865c39ec9f9c",
   "metadata": {},
   "outputs": [],
   "source": [
    "# Get the first item's assets\n",
    "assets = items[0].assets  \n",
    "# print each attribute name using keys()\n",
    "print(assets.\"_____\"())"
   ]
  },
  {
   "cell_type": "code",
   "execution_count": null,
   "id": "8c9657a6-27ec-4978-8e77-b77f11479237",
   "metadata": {},
   "outputs": [],
   "source": [
    "# Print a minimal description of the available assets\n",
    "for key, asset in assets.items():\n",
    "    print(f\"{key}: {asset.title}\")"
   ]
  },
  {
   "cell_type": "code",
   "execution_count": null,
   "id": "5ccb7bf8-ca82-4169-9d42-d881b50fc695",
   "metadata": {},
   "outputs": [],
   "source": [
    "# Show one metadata value\n",
    "print(assets[\"thumbnail\"])\n",
    "\n",
    "# Show the 'href' attribute value\n",
    "print(assets[\"thumbnail\"].\"_____\")"
   ]
  },
  {
   "cell_type": "code",
   "execution_count": null,
   "id": "388da225-371b-45f3-b7fc-90fd16e06543",
   "metadata": {},
   "outputs": [],
   "source": [
    "# Open 'nir' with the rioxarray library, use an overview level of 3 to reduce the file size\n",
    "nir_href = assets[\"nir\"].href\n",
    "nir = rioxarray.open_rasterio(\"_____\", overview_level=\"_____\")\n",
    "print(nir)"
   ]
  },
  {
   "cell_type": "code",
   "execution_count": null,
   "id": "8ef19744-b107-4f17-a36f-eefe07bec58c",
   "metadata": {},
   "outputs": [],
   "source": [
    "# save whole image to disk - this may take awhile\n",
    "# Actually, let's not, as this is a large file\n",
    "# nir.rio.to_raster(\"nir.tif\")"
   ]
  },
  {
   "cell_type": "code",
   "execution_count": null,
   "id": "63612156-f791-40b6-8135-818c5fa741ae",
   "metadata": {},
   "outputs": [],
   "source": [
    "# Let's show the boundary box of the whole tiff on an interactive map\n",
    "# Interactive maps generally expect data that's in CRS 4326\n",
    "# We'll need to convert our boundary box to this CRS\n",
    "\n",
    "# Some extra modules and a library are required for this\n",
    "from shapely.geometry import box # To create a box\n",
    "from shapely.ops import transform # The shapely transform module  \n",
    "import pyproj # A reprojection library\n",
    "\n",
    "# Create the transformer\n",
    "project = pyproj.Transformer.from_crs(nir.rio.crs.to_epsg(), \"_____\", always_xy=True).transform\n",
    "\n",
    "# Create our boundary box\n",
    "\"_____\" = box(*nir.rio.bounds())\n",
    "\n",
    "# Apply the transformation\n",
    "bbox_transformed = transform(project, \"_____\")\n",
    "\n",
    "bbox_transformed\n"
   ]
  },
  {
   "cell_type": "code",
   "execution_count": null,
   "id": "44797ff6-a8e4-444b-b91d-adb81aaf1fb2",
   "metadata": {},
   "outputs": [],
   "source": [
    "# Let's use an interctive map to create an area of interest (AOI) for use in subsetting our data. \n",
    "\n",
    "# Create and center our map to the our POI\n",
    "m = folium.Map(location=[point.y,point.x], zoom_start=12)\n",
    "\n",
    "# Create tiles client\n",
    "if local_run:\n",
    "    # Geotiff files will not show in our web browser, but we can convert them on-the-fly\n",
    "    # We'll use a library that goes one step further, and generates map tiles.\n",
    "    # Map tiles allow us to only load in the part of the image we are intersted in when moving around the map\n",
    "    nir_tiles = TileClient(nir_href) \n",
    "    nir_layer = get_folium_tile_layer(nir_tiles, name='nir') # create elevation tile layer\n",
    "    nir_layer.add_to(m)\n",
    "\n",
    "# show the boundary box of the whole tiff\n",
    "folium.GeoJson(bbox_transformed,\n",
    "    style_function=lambda feature: {\n",
    "        \"color\": \"red\",\n",
    "    }).add_to(m)\n",
    "\n",
    "\n",
    "draw = Draw(export=True)\n",
    "draw.add_to(m)\n",
    "\n",
    "# add a layer control to toggle layers\n",
    "folium.LayerControl().add_to(m)\n",
    "m\n",
    "\n",
    "# Use the draw rectangle tool to create a shape that overlaps a portion of the boundary"
   ]
  },
  {
   "cell_type": "code",
   "execution_count": null,
   "id": "bc128f32-9fe4-4dab-9f5e-adc9c875c4b2",
   "metadata": {},
   "outputs": [],
   "source": [
    "# Save a portion of the raster to disk\n",
    "\n",
    "# Copy the geojson from the drawn polygon (click the shape, and copy the text starting from '{\"type\":\"Polygon\"', up until the last '}').\n",
    "geom='''\"_____\"'''\n",
    "geojson.loads(geom)\n",
    "cropping_geometries = [geojson.loads(geom)] # converts to list\n",
    "\n",
    "# Use .rio.clip to subset the raster data\n",
    "# Doc: https://corteva.github.io/rioxarray/html/rioxarray.html#rioxarray-rio-accessors\n",
    "nir_sub = nir.rio.clip(geometries=cropping_geometries, crs=4326)\n",
    "nir_sub.rio.to_raster(\"_____\")"
   ]
  },
  {
   "cell_type": "code",
   "execution_count": null,
   "id": "e6739c77-e327-4921-be17-df4ea558b040",
   "metadata": {},
   "outputs": [],
   "source": [
    "# We'll also show the boundary box of the subset tiff on an interactive map\n",
    "# This too will require reprojecting our boundary box\n",
    "bbox_clip = box(*rioxarray.open_rasterio(\"_____\").rio.bounds())\n",
    "bbox_clip_transformed = transform(project, bbox_clip)\n",
    "\n",
    "bbox_clip_transformed"
   ]
  },
  {
   "cell_type": "code",
   "execution_count": null,
   "id": "8c78d39b-de70-4056-b7a2-569bbef92804",
   "metadata": {},
   "outputs": [],
   "source": [
    "# Create an interctive map showing our AOI and subsetted raster\n",
    "\n",
    "m = folium.Map(location=[point.y,point.x], zoom_start=12)\n",
    "\n",
    "if local_run:\n",
    "    nir_tiles = TileClient(\"_____\") # create tiles client\n",
    "    nir_layer = get_folium_tile_layer(nir_tiles, name='nir')\n",
    "    nir_layer.add_to(m)\n",
    "\n",
    "# show the boundary box of the whole tiff\n",
    "folium.GeoJson(bbox_transformed,\n",
    "    style_function=lambda feature: {\n",
    "        \"color\": \"red\",\n",
    "    }).add_to(m)\n",
    "\n",
    "# show the boundary box of the clipped tiff\n",
    "folium.GeoJson(bbox_clip_transformed,\n",
    "    style_function=lambda feature: {\n",
    "        \"color\": \"green\",\n",
    "    }).add_to(m)\n",
    "\n",
    "# show our drawn polygon\n",
    "folium.GeoJson(geom).add_to(m)\n",
    "\n",
    "\n",
    "\n",
    "folium.LayerControl().add_to(m)\n",
    "\n",
    "m"
   ]
  }
 ],
 "metadata": {
  "kernelspec": {
   "display_name": "Python 3 (ipykernel)",
   "language": "python",
   "name": "python3"
  },
  "language_info": {
   "codemirror_mode": {
    "name": "ipython",
    "version": 3
   },
   "file_extension": ".py",
   "mimetype": "text/x-python",
   "name": "python",
   "nbconvert_exporter": "python",
   "pygments_lexer": "ipython3",
   "version": "3.10.14"
  }
 },
 "nbformat": 4,
 "nbformat_minor": 5
}
