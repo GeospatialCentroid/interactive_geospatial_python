{
 "cells": [
  {
   "cell_type": "markdown",
   "id": "64666606-617a-4098-902f-1855e1a9bcd2",
   "metadata": {},
   "source": [
    "# Geospatial Python\n",
    "## Raster Calculations in Python\n",
    "Setup: https://carpentries-incubator.github.io/geospatial-python/index.html\n",
    "\n",
    "Instruction: https://carpentries-incubator.github.io/geospatial-python/09-raster-calculations.html\n",
    "\n",
    "Objectives:\n",
    "* Carry out operations with two rasters using Python’s built-in math operators.\n",
    "* Reclassify a continuous raster to a categorical raster.\n",
    "\n",
    "We will use the results of the satellite image search 'search.json', which was generated in 'Raster Data Access.ipynb'.\n",
    "\n",
    "Before executing the code cells, be sure to replace the \"_____\" as appropriate"
   ]
  },
  {
   "cell_type": "code",
   "execution_count": null,
   "id": "be117d77-3fef-4594-b7eb-ad0f09e38554",
   "metadata": {},
   "outputs": [],
   "source": [
    "# Import required libraries\n",
    "import pystac # to load rasters from the search result\n",
    "import rioxarray # to open and download remote raster data\n",
    "\n",
    "import geojson # to parse spatial data format\n",
    "import folium # to create an interactive map\n",
    "from folium.plugins import Draw # to allow drawing\n",
    "from localtileserver import TileClient, get_folium_tile_layer # to visualize the geotiff \n",
    "\n",
    "import numpy as np # to work with numbered lists\n",
    "import xarray # to preserve spatial metadata when working with numbered lists\n",
    "\n",
    "import earthpy.plot as ep # for drawing a legend\n",
    "import matplotlib.pyplot as plt # for plotting\n",
    "from matplotlib.colors import ListedColormap # to color our classified data"
   ]
  },
  {
   "cell_type": "code",
   "execution_count": null,
   "id": "a159333b-0ea9-497f-ab72-41e2888a5991",
   "metadata": {},
   "outputs": [],
   "source": [
    "# Load the results of our initial imagery search using pystac\n",
    "items = pystac.ItemCollection.from_file(\"search.json\")"
   ]
  },
  {
   "cell_type": "code",
   "execution_count": null,
   "id": "2288e28a-ec84-4d63-8d92-c9ae5da90d59",
   "metadata": {},
   "outputs": [],
   "source": [
    "# Select the second item, and extract the URIs of the red and nir08 bands (“red” and “nir08”, respectively):\n",
    "red_href = items[1].assets[\"red\"].href\n",
    "nir_href = items[1].assets[\"nir08\"].href"
   ]
  },
  {
   "cell_type": "code",
   "execution_count": null,
   "id": "16657989-2438-4915-b58d-f097130ebe87",
   "metadata": {},
   "outputs": [],
   "source": [
    "# load the rasters with open_rasterio using the argument masked=True.\n",
    "red = rioxarray.open_rasterio(red_href, masked=True)\n",
    "nir = rioxarray.open_rasterio(nir_href, masked=True)"
   ]
  },
  {
   "cell_type": "code",
   "execution_count": null,
   "id": "d8f5a74f-55b7-440b-ab53-c1fd8c570a5e",
   "metadata": {},
   "outputs": [],
   "source": [
    "# Let's use an interctive map to create an area of interest (AOI) for use in subsetting our data. \n",
    "\n",
    "# Create tiles client for our geotiff\n",
    "nir_tiles = TileClient(nir_href) # create tiles client\n",
    "nir_layer = get_folium_tile_layer(nir_tiles, name='nir') # create elevation tile layer\n",
    "\n",
    "# Create a map object\n",
    "m = folium.Map( zoom_start=12)\n",
    "\n",
    "# Add our tiles\n",
    "nir_layer.add_to(m)\n",
    "\n",
    "# Add drawing tools\n",
    "draw = Draw(export=True)\n",
    "draw.add_to(m)\n",
    "\n",
    "# Add drawing controls\n",
    "folium.LayerControl().add_to(m)\n",
    "\n",
    "m\n",
    "\n",
    "# Use the draw rectangle tool to create a shape that overlaps a portion of the boundary"
   ]
  },
  {
   "cell_type": "code",
   "execution_count": null,
   "id": "6e8dd1e8-3469-4c0f-b652-cb320c60fd62",
   "metadata": {},
   "outputs": [],
   "source": [
    "# Copy the geojson from the drawn polygon (click the shape, and copy the text starting from '{\"type\":\"Polygon\"', up until the last '}').\n",
    "geom ='''{\"type\":\"Polygon\",\"coordinates\":[[[-106.020813,40.726446],[-106.020813,41.261291],[-105.227051,41.261291],[-105.227051,40.726446],[-106.020813,40.726446]]]}'''\n",
    "\n",
    "geojson.loads(geom)\n",
    "cropping_geometries = [geojson.loads(geom)] # converts to list\n",
    "\n",
    "# https://corteva.github.io/rioxarray/html/rioxarray.html#rioxarray-rio-accessors\n",
    "red_clip = red.rio.clip(geometries=cropping_geometries, crs=4326)\n",
    "nir_clip = nir.rio.clip(geometries=cropping_geometries, crs=4326)"
   ]
  },
  {
   "cell_type": "code",
   "execution_count": null,
   "id": "0b3bbcba-8ed7-4574-aef3-e4ae49735c36",
   "metadata": {},
   "outputs": [],
   "source": [
    "# plot the two rasters Using robust=True\n",
    "red_clip.plot(robust=True)"
   ]
  },
  {
   "cell_type": "code",
   "execution_count": null,
   "id": "ea04b8d9-cc56-4fcf-9948-273365558faa",
   "metadata": {},
   "outputs": [],
   "source": [
    "# plot the two rasters Using robust=True\n",
    "nir_clip.plot(robust=True)"
   ]
  },
  {
   "cell_type": "markdown",
   "id": "7ab36b52-8519-4bdb-a359-f9f7dd1018f2",
   "metadata": {},
   "source": [
    "## Raster Math"
   ]
  },
  {
   "cell_type": "code",
   "execution_count": null,
   "id": "7ff2d748-3a59-4ef0-896b-977249e5cc32",
   "metadata": {},
   "outputs": [],
   "source": [
    "#check the shapes of the two rasters in the following way\n",
    "print(red_clip.shape, nir_clip.shape)"
   ]
  },
  {
   "cell_type": "code",
   "execution_count": null,
   "id": "4d72625b-335f-471e-bc6e-11f50e90b33f",
   "metadata": {},
   "outputs": [],
   "source": [
    "# As their width and height do not match, use reproject_match to both reproject and clip a raster to the CRS and extent of another raster.\n",
    "red_clip_matched = red_clip.rio.reproject_match(nir_clip,nodata=np.nan ) # Set NaN as NoData\n",
    "print(red_clip_matched.shape)"
   ]
  },
  {
   "cell_type": "code",
   "execution_count": null,
   "id": "1f5c47f2-84e8-46f3-b526-026f2c76238a",
   "metadata": {},
   "outputs": [],
   "source": [
    "# Compute the NDVI to create a new raster \n",
    "ndvi = (nir_clip - red_clip_matched)/ (nir_clip + red_clip_matched)\n",
    "print(ndvi)"
   ]
  },
  {
   "cell_type": "code",
   "execution_count": null,
   "id": "4fe69f56-0102-4ac8-87aa-d85489620e75",
   "metadata": {},
   "outputs": [],
   "source": [
    "# Plot the output NDVI\n",
    "ndvi.plot()"
   ]
  },
  {
   "cell_type": "code",
   "execution_count": null,
   "id": "ef0a5907-390d-4f81-a986-842ead136749",
   "metadata": {},
   "outputs": [],
   "source": [
    "# Plot a histogram to see the spread of values accross 50 bins\n",
    "ndvi.plot.hist(bins=50)"
   ]
  },
  {
   "cell_type": "code",
   "execution_count": null,
   "id": "de3e252d-50c0-44d7-af7e-e6c21ae30977",
   "metadata": {},
   "outputs": [],
   "source": [
    "# Discretize the color plot by specifying the intervals\n",
    "class_bins = (-1, 0., 0.2, 0.7, 1)\n",
    "ndvi.plot(levels=class_bins)"
   ]
  },
  {
   "cell_type": "code",
   "execution_count": null,
   "id": "3ed384f7-2edd-46f7-a286-f005be95b8dd",
   "metadata": {},
   "outputs": [],
   "source": [
    "# Missing values can be interpolated from the values of neighbouring grid cells using the .interpolate_na method. \n",
    "# ndvi_nonan = ndvi.interpolate_na(dim=\"x\")\n",
    "\n",
    "# # save the output\n",
    "# ndvi_nonan.rio.to_raster(\"NDVI.tif\")"
   ]
  },
  {
   "cell_type": "markdown",
   "id": "e520a820-6e7d-4d33-994b-bb308abbb8a4",
   "metadata": {},
   "source": [
    "## Classifying Continuous Rasters in Python\n",
    "\n",
    "Reduce the complexity of the map by classifying it. \n",
    "\n",
    "Classification involves assigning each pixel in the raster to a class based on its value. \n",
    "\n",
    "In Python, we can accomplish this using the *numpy.digitize* function\n",
    "\n",
    "Note: by default, each class includes the left but not the right bound. This is not an issue here, since the computed range of NDVI values are fully contained in the open interval (-1; 1)"
   ]
  },
  {
   "cell_type": "code",
   "execution_count": null,
   "id": "14532298-e0c2-4f30-be83-320db74f62e7",
   "metadata": {},
   "outputs": [],
   "source": [
    "# Define the bins for pixel values\n",
    "class_bins = (-1, 0., 0.2, 0.7, 1)\n",
    "\n",
    "# The numpy.digitize function returns an unlabeled array, in this case, a\n",
    "# classified array without any metadata. That doesn't work--we need the\n",
    "# coordinates and other spatial metadata. We can get around this by using\n",
    "# \"xarray.apply_ufunc\", which can run the function across the data array while preserving metadata.\n",
    "ndvi_classified = xarray.apply_ufunc(\n",
    "    np.digitize,\n",
    "    ndvi,#ndvi_nonan,\n",
    "    class_bins,\n",
    "    dataset_fill_value=np.nan\n",
    ")"
   ]
  },
  {
   "cell_type": "code",
   "execution_count": null,
   "id": "b289200b-f8c6-474e-9fbc-36a338ad182d",
   "metadata": {},
   "outputs": [],
   "source": [
    "# Visualize the classified NDVI, customizing the plot with proper title and legend\n",
    "\n",
    "# Define a color map for the map legend\n",
    "ndvi_colors = [\"blue\", \"gray\", \"green\", \"darkgreen\"]\n",
    "ndvi_cmap = ListedColormap(ndvi_colors)\n",
    "\n",
    "# Define class names for the legend\n",
    "category_names = [\n",
    "    \"Water\",\n",
    "    \"No Vegetation\",\n",
    "    \"Sparse Vegetation\",\n",
    "    \"Dense Vegetation\"\n",
    "]\n",
    "\n",
    "# We need to know in what order the legend items should be arranged\n",
    "category_indices = list(range(len(category_names)))\n",
    "\n",
    "# Make the plot\n",
    "im = ndvi_classified.plot(cmap=ndvi_cmap, add_colorbar=False)\n",
    "plt.title(\"Classified NDVI\")\n",
    "\n",
    "# earthpy helps us by drawing a legend given an existing image plot and legend items, plus indices\n",
    "ep.draw_legend(im_ax=im, classes=category_indices, titles=category_names)\n",
    "\n",
    "# Save the figure\n",
    "plt.savefig(\"NDVI_classified.png\", bbox_inches=\"tight\", dpi=300)"
   ]
  },
  {
   "cell_type": "code",
   "execution_count": null,
   "id": "d5eb2a36-2356-446a-90fd-efb33d0218b9",
   "metadata": {},
   "outputs": [],
   "source": [
    "# Export the classified NDVI raster object to a GeoTiff\n",
    "ndvi_classified.rio.to_raster(\"NDVI_classified.tif\", dtype=\"int32\")"
   ]
  },
  {
   "cell_type": "code",
   "execution_count": null,
   "id": "78fcf30c-f040-49dc-831c-ee6f41fbc139",
   "metadata": {},
   "outputs": [],
   "source": [
    "ndvi_classified.plot.hist()"
   ]
  },
  {
   "cell_type": "code",
   "execution_count": null,
   "id": "e2fed711-155d-41cc-a016-e255ac541beb",
   "metadata": {},
   "outputs": [],
   "source": []
  }
 ],
 "metadata": {
  "kernelspec": {
   "display_name": "Python 3 (ipykernel)",
   "language": "python",
   "name": "python3"
  },
  "language_info": {
   "codemirror_mode": {
    "name": "ipython",
    "version": 3
   },
   "file_extension": ".py",
   "mimetype": "text/x-python",
   "name": "python",
   "nbconvert_exporter": "python",
   "pygments_lexer": "ipython3",
   "version": "3.10.14"
  }
 },
 "nbformat": 4,
 "nbformat_minor": 5
}
