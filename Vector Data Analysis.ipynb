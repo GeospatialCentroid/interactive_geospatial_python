{
 "cells": [
  {
   "cell_type": "markdown",
   "id": "ff7de2a1-132b-4207-82bf-7a95daea1ffe",
   "metadata": {},
   "source": [
    "## Vector data analysis in Python\n",
    "\n",
    "Setup: https://carpentries-incubator.github.io/geospatial-python/index.html\n",
    "\n",
    "Based on: https://carpentries-incubator.github.io/geospatial-python/07-vector-data-in-python.html\n",
    "\n",
    "Objectives:\n",
    "* Load spatial objects.\n",
    "* Select the spatial objects within a bounding box.\n",
    "* Perform a CRS conversion of spatial objects.\n",
    "* Select features of spatial objects.\n",
    "\n",
    "* Before executing the code cells, be sure to replace the \"_____\" as appropriate"
   ]
  },
  {
   "cell_type": "code",
   "execution_count": null,
   "id": "83077caa-900a-41b2-9653-dd9cf3c21693",
   "metadata": {},
   "outputs": [],
   "source": [
    "# First import necessary libraries\n",
    "import geopandas as gpd #Extends pandas to allow spatial operations. Docs https://geopandas.org/en/stable/"
   ]
  },
  {
   "cell_type": "code",
   "execution_count": null,
   "id": "7c86b2a6-709f-419b-8d3e-2e7e573cd3a1",
   "metadata": {
    "scrolled": true
   },
   "outputs": [],
   "source": [
    "# Use the geopandas package to load the crop field vector data we downloaded\n",
    "boundary = gpd.read_file(\"data/co4060910587920200813_20180915_20210907_burn_bndy.shp\")"
   ]
  },
  {
   "cell_type": "code",
   "execution_count": null,
   "id": "8f4f28e6-853e-43d7-b4bc-509cb9349404",
   "metadata": {},
   "outputs": [],
   "source": [
    "# Show the data, notice the geometry column\n",
    "boundary"
   ]
  },
  {
   "cell_type": "code",
   "execution_count": null,
   "id": "f8b844f8-f4c4-4108-9e20-cbd288b6bc4f",
   "metadata": {},
   "outputs": [],
   "source": [
    "# Show the geometry types\n",
    "boundary.type"
   ]
  },
  {
   "cell_type": "code",
   "execution_count": null,
   "id": "b0c392fb-60bf-4b1f-bcbc-a72e30eeb9aa",
   "metadata": {},
   "outputs": [],
   "source": [
    "# Show the bounds\n",
    "boundary.total_bounds"
   ]
  },
  {
   "cell_type": "code",
   "execution_count": null,
   "id": "687d46c9-1f03-43f5-ba0e-959d4d715281",
   "metadata": {},
   "outputs": [],
   "source": [
    "# Show the coordinate reference system (crs)\n",
    "boundary.crs"
   ]
  },
  {
   "cell_type": "code",
   "execution_count": null,
   "id": "f66041cc-9829-45d6-9e59-da7bcb83b58c",
   "metadata": {},
   "outputs": [],
   "source": [
    "# Plot the data\n",
    "boundary.plot()"
   ]
  },
  {
   "cell_type": "markdown",
   "id": "90f1cdbc-0195-4bb4-ac91-0cf542a2a1b3",
   "metadata": {},
   "source": [
    "## Selecting spatial features"
   ]
  },
  {
   "cell_type": "code",
   "execution_count": null,
   "id": "3077eb54-5a41-4c27-934b-4692d7f3c885",
   "metadata": {
    "scrolled": true
   },
   "outputs": [],
   "source": [
    "# Lets now subset the data\n",
    "\n",
    "# Use an interactive map to define a bounding box we'll later use to clip with\n",
    "import folium # to create an interactive map\n",
    "from folium.plugins import Draw # to allow drawing\n",
    "\n",
    "# Define a center point using EPSG:4326 coordinates\n",
    "center_coord = [40.60104027382292, -105.09137099497742] # fort collins\n",
    "\n",
    "# Create the map\n",
    "m  = folium.Map(center_coord, zoom_start=10)\n",
    "\n",
    "boundary['Ig_Date'] = boundary['Ig_Date'].astype(str) # otherwise error \"Object of type Timestamp is not JSON serializable\"\n",
    "\n",
    "# Add the data to the map\n",
    "folium.GeoJson(boundary).add_to(m)\n",
    "\n",
    "# Enable drawing on the map\n",
    "draw = Draw(export=True)\n",
    "draw.add_to(m)\n",
    "\n",
    "m\n",
    "\n",
    "# Use the draw rectangle tool to create a shape that overlaps a portion of the boundary"
   ]
  },
  {
   "cell_type": "code",
   "execution_count": null,
   "id": "bdf2ff55-bff7-48fd-a18b-b9b5861835ed",
   "metadata": {},
   "outputs": [],
   "source": [
    "# Copy the geojson from the drawn polygon (click the shape, and copy the text starting from '{\"type\":\"Polygon\"', up until the last '}').\n",
    "from shapely.geometry import shape\n",
    "from shapely.geometry.polygon import Polygon\n",
    "\n",
    "# Paste geojson below\n",
    "geojson: dict = {\"type\":\"Polygon\",\"coordinates\":[[[-105.308075,40.489145],[-105.308075,40.575826],[-105.191345,40.575826],[-105.191345,40.489145],[-105.308075,40.489145]]]}\n",
    "\n",
    "\n",
    "geom: Polygon = shape(geojson)"
   ]
  },
  {
   "cell_type": "code",
   "execution_count": null,
   "id": "969e2671-5c6c-4c17-ba25-cbdfc3195d63",
   "metadata": {},
   "outputs": [],
   "source": [
    "# Because our drawn geometry doesn't match the CRS of the loaded data, we need to transform it's projection\n",
    "import pyproj # Load a reprojection library\n",
    "from shapely.ops import transform # Load the shapely transform module \n",
    "\n",
    "# Create our 'from' and 'to' projection objects\n",
    "from_proj = pyproj.CRS('EPSG:4326')\n",
    "to_proj = pyproj.CRS('ESRI:102039')\n",
    "\n",
    "# Create the transformer\n",
    "project = pyproj.Transformer.from_crs(from_proj, to_proj, always_xy=True).transform\n",
    "\n",
    "# Transform the data\n",
    "geojson_projected = transform(project, geom)\n",
    "geojson_projected"
   ]
  },
  {
   "cell_type": "code",
   "execution_count": null,
   "id": "2d513dd6-a1df-4888-9758-e79f18095fa8",
   "metadata": {},
   "outputs": [],
   "source": [
    "# Clip the 'boundary' data to our area of interest\n",
    "boundary_cropped = gpd.clip(boundary,geojson_projected)"
   ]
  },
  {
   "cell_type": "code",
   "execution_count": null,
   "id": "3426b78c-5f6a-4198-a391-d0467e1e6fa4",
   "metadata": {},
   "outputs": [],
   "source": [
    "# Plot the data\n",
    "boundary_cropped.plot()"
   ]
  },
  {
   "cell_type": "code",
   "execution_count": null,
   "id": "7cb9d7e1-ed72-4c2f-bb04-2f88ba0e4e7f",
   "metadata": {
    "scrolled": true
   },
   "outputs": [],
   "source": [
    "# Show the results on an interactive map\n",
    "\n",
    "center_coord = [40.60104027382292, -105.09137099497742] # fort collins\n",
    "m  = folium.Map(center_coord, zoom_start=10)\n",
    "\n",
    "# add original\n",
    "folium.GeoJson(boundary).add_to(m)\n",
    "\n",
    "\n",
    "boundary_cropped['Ig_Date'] = boundary_cropped['Ig_Date'].astype(str) # otherwise error \"Object of type Timestamp is not JSON serializable\"\n",
    "\n",
    "# Add the cropped boundary data with a new style\n",
    "folium.GeoJson(boundary_cropped,\n",
    "    style_function=lambda feature: {\n",
    "        \"fillColor\": \"#ffff00\",\n",
    "        \"color\": \"black\",\n",
    "        \"weight\": 2,\n",
    "        \"dashArray\": \"5, 5\",\n",
    "    }).add_to(m)\n",
    "\n",
    "# Add our area of interest\n",
    "folium.GeoJson(geom).add_to(m)\n",
    "\n",
    "draw = Draw(export=True)\n",
    "draw.add_to(m)\n",
    "m"
   ]
  },
  {
   "cell_type": "code",
   "execution_count": null,
   "id": "170011b8-8ffb-40fc-b173-ac403bfdb07b",
   "metadata": {},
   "outputs": [],
   "source": [
    "# Export data to file\n",
    "boundary_cropped.to_file('data/boundary_cropped.shp')"
   ]
  },
  {
   "cell_type": "markdown",
   "id": "3bd9a64b-983c-412a-9d22-01c8f4d50d20",
   "metadata": {},
   "source": [
    "## Feature Services\n",
    "Using REST APIs allow us to access the data we want without having to download massive files.\n",
    "We'll user the FEMA US Stuctures data https://gis-fema.hub.arcgis.com/pages/usa-structures\n",
    "This data has a download option but it's a large file\n",
    "We'll instead use feature service https://fema.maps.arcgis.com/home/item.html?id=0ec8512ad21e4bb987d7e848d14e7e24#overview \n",
    "We can query feature service based off of our cropped boundary"
   ]
  },
  {
   "cell_type": "code",
   "execution_count": null,
   "id": "2fedd747-7486-4615-b86b-014e783fa1e3",
   "metadata": {},
   "outputs": [],
   "source": [
    "# Go to the service URL https://services2.arcgis.com/FiaPA4ga0iQKduv3/arcgis/rest/services/USA_Structures_View/FeatureServer\n",
    "# From url above, click the 'Query' link, then review the documentation\n",
    "# Docs: https://developers.arcgis.com/rest/services-reference/enterprise/query-feature-service-layer/\n",
    "\n",
    "# We've created the following URL so that we can access all the properties ('&outFields=*') and pass a boundary of our choosing ('&geometry=')\n",
    "rest_url=\"https://services2.arcgis.com/FiaPA4ga0iQKduv3/ArcGIS/rest/services/USA_Structures_View/FeatureServer/0/query?where=1%3D1&objectIds=&time=&geometryType=esriGeometryEnvelope&inSR=4326&spatialRel=esriSpatialRelIntersects&resultType=none&distance=0.0&units=esriSRUnit_Meter&relationParam=&returnGeodetic=false&outFields=&returnGeometry=true&returnCentroid=false&returnEnvelope=false&featureEncoding=esriDefault&multipatchOption=xyFootprint&maxAllowableOffset=&geometryPrecision=&outSR=&defaultSR=&datumTransformation=&applyVCSProjection=false&returnIdsOnly=false&returnUniqueIdsOnly=false&returnCountOnly=false&returnExtentOnly=false&returnQueryGeometry=false&returnDistinctValues=false&cacheHint=false&orderByFields=&groupByFieldsForStatistics=&outStatistics=&having=&resultOffset=&resultRecordCount=&returnZ=false&returnM=false&returnTrueCurves=false&returnExceededLimitFeatures=true&quantizationParameters=&sqlFormat=none&f=pgeojson&token=&outFields=*&geometry=\"#-104%2C35.6%2C-94.32%2C41"
   ]
  },
  {
   "cell_type": "code",
   "execution_count": null,
   "id": "aa2ac018-52fb-4cc5-bc93-fa54d2c5d53b",
   "metadata": {},
   "outputs": [],
   "source": [
    "# Buffer our drawn bounds by 50m\n",
    "geojson_projected_buffered = geojson_projected.buffer(50)\n",
    "print(geojson_projected_buffered.bounds)"
   ]
  },
  {
   "cell_type": "code",
   "execution_count": null,
   "id": "a9cf82f3-f540-4290-abf3-ea39bd132ac1",
   "metadata": {},
   "outputs": [],
   "source": [
    "# We'll need to again reproject our area of interest\n",
    "\n",
    "project_back = pyproj.Transformer.from_crs(to_proj,from_proj, always_xy=True).transform\n",
    "\n",
    "geojson_projected_buffered_back = transform(project_back, geojson_projected_buffered)\n",
    "str_bounds = \",\".join(str(x) for x in geojson_projected_buffered_back.bounds)\n",
    "\n",
    "# Add our reprojected bounds to the end of 'rest_url'\n",
    "full_url=rest_url+str_bounds"
   ]
  },
  {
   "cell_type": "code",
   "execution_count": null,
   "id": "cf6c7380-af88-4b7d-a7c5-e04ab1e1dcf4",
   "metadata": {},
   "outputs": [],
   "source": [
    "# Load the data\n",
    "structures = gpd.read_file(full_url)"
   ]
  },
  {
   "cell_type": "code",
   "execution_count": null,
   "id": "c1ec445c-4725-4830-b1ff-878ed56ab858",
   "metadata": {},
   "outputs": [],
   "source": [
    "# Show the data's shape\n",
    "structures.shape"
   ]
  },
  {
   "cell_type": "code",
   "execution_count": null,
   "id": "b5ac055f-fac9-41ae-8044-cc6d135e0343",
   "metadata": {},
   "outputs": [],
   "source": [
    "# Show the column names and type\n",
    "structures.dtypes"
   ]
  },
  {
   "cell_type": "code",
   "execution_count": null,
   "id": "96340fa7-1a7c-484f-a06c-f0497004fae6",
   "metadata": {
    "scrolled": true
   },
   "outputs": [],
   "source": [
    "# Visualize the data on an interactive map\n",
    "\n",
    "# Use our buffered area of interest for the map's center position\n",
    "center_coord = [geojson_projected_buffered_back.centroid.y, geojson_projected_buffered_back.centroid.x] # fort collins\n",
    "m  = folium.Map(center_coord, zoom_start=14)\n",
    "\n",
    "# Add our buffer to the map\n",
    "folium.GeoJson(geojson_projected_buffered_back).add_to(m)\n",
    "\n",
    "# Add 'structures' with popups \n",
    "# See docs: https://python-visualization.github.io/folium/latest/user_guide/geojson/geojson.html\n",
    "popup = folium.GeoJsonPopup(fields=[\"OCC_CLS\"])\n",
    "folium.GeoJson(structures, popup=popup, popup_keep_highlighted=True,).add_to(m)\n",
    "\n",
    "m"
   ]
  },
  {
   "cell_type": "code",
   "execution_count": null,
   "id": "b0d2b87b-cbbe-4f8a-b58c-7851ad21036b",
   "metadata": {},
   "outputs": [],
   "source": [
    "# Export structures geometry\n",
    "# structures.to_file('data/structures.shp') # error Column names longer than 10...\n",
    "structures.to_file('data/structures.gpkg')"
   ]
  }
 ],
 "metadata": {
  "kernelspec": {
   "display_name": "Python 3 (ipykernel)",
   "language": "python",
   "name": "python3"
  },
  "language_info": {
   "codemirror_mode": {
    "name": "ipython",
    "version": 3
   },
   "file_extension": ".py",
   "mimetype": "text/x-python",
   "name": "python",
   "nbconvert_exporter": "python",
   "pygments_lexer": "ipython3",
   "version": "3.10.14"
  }
 },
 "nbformat": 4,
 "nbformat_minor": 5
}
